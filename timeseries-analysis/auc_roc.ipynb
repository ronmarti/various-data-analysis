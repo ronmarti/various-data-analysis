{
 "cells": [
  {
   "cell_type": "markdown",
   "metadata": {},
   "source": [
    "# Whitening and Binning Analysis"
   ]
  },
  {
   "cell_type": "code",
   "execution_count": 1,
   "metadata": {},
   "outputs": [
    {
     "name": "stdout",
     "output_type": "stream",
     "text": [
      "Current working dir:\t c:\\GitRepos\\various-data-analysis\\timeseries-analysis\n"
     ]
    }
   ],
   "source": [
    "import os\n",
    "print(f'Current working dir:\\t {os.getcwd()}')\n",
    "from pathlib import Path\n",
    "\n",
    "from datetime import datetime\n",
    "# from datetime import timedelta\n",
    "\n",
    "import pandas as pd\n",
    "import matplotlib.pyplot as plt\n",
    "import numpy as np\n",
    "import seaborn as sns\n",
    "import scipy\n",
    "import sklearn\n",
    "from sklearn.metrics import roc_auc_score\n",
    "\n",
    "%matplotlib widget"
   ]
  },
  {
   "cell_type": "code",
   "execution_count": 12,
   "metadata": {},
   "outputs": [
    {
     "data": {
      "text/plain": [
       "1.0"
      ]
     },
     "execution_count": 12,
     "metadata": {},
     "output_type": "execute_result"
    }
   ],
   "source": [
    "true_lab =-(np.array([0, 0, 1, 1, 1, 0])-1)\n",
    "pred_scores = -np.array([0, 0, 40, 80, 120, 0])\n",
    "\n",
    "roc_auc_score(true_lab, pred_scores)\n",
    "\n",
    "# roc_auc_scopred_scoresre(y, clf.decision_function(X))"
   ]
  }
 ],
 "metadata": {
  "interpreter": {
   "hash": "101130aea03b81196a0fc3887c2856fe0c938fc50d516cfee19b921b89cf7bfb"
  },
  "kernelspec": {
   "display_name": "Python 3.8.10 ('.venv': venv)",
   "language": "python",
   "name": "python3"
  },
  "language_info": {
   "codemirror_mode": {
    "name": "ipython",
    "version": 3
   },
   "file_extension": ".py",
   "mimetype": "text/x-python",
   "name": "python",
   "nbconvert_exporter": "python",
   "pygments_lexer": "ipython3",
   "version": "3.8.10"
  },
  "orig_nbformat": 4
 },
 "nbformat": 4,
 "nbformat_minor": 2
}
