{
 "cells": [
  {
   "cell_type": "code",
   "execution_count": 1,
   "metadata": {},
   "outputs": [],
   "source": [
    "import numpy as np\n",
    "import sklearn\n",
    "from sklearn.metrics import roc_auc_score\n",
    "\n",
    "import matplotlib.pyplot as plt\n",
    "import pandas as pd\n",
    "from pathlib import Path\n",
    "import json\n",
    "# import stumpy\n",
    "# from pyts.approximation import PiecewiseAggregateApproximation\n",
    "\n",
    "\n",
    "# import seaborn as sns\n",
    "\n",
    "\n",
    "%matplotlib widget"
   ]
  },
  {
   "cell_type": "code",
   "execution_count": 16,
   "metadata": {},
   "outputs": [
    {
     "name": "stdout",
     "output_type": "stream",
     "text": [
      "Index(['74.0', '69.82000000000001', '79.79', '82.73', '77.3', '82.08', '81.49',\n",
      "       '74.34', '-0.25', '81.32000000000001', '76.5', '85.26', '84.69', '80.0',\n",
      "       '87.42'],\n",
      "      dtype='object')\n"
     ]
    }
   ],
   "source": [
    "root = Path(r'C:\\DATA_FAST\\KvasinyPricnaStena\\2017_01')\n",
    "filename_data = Path('kvasiny_pricna_stena_2017-01-04.csv')\n",
    "data_raw = pd.read_csv(root/filename_data, sep=';', index_col=0, parse_dates=True, header=None)\n",
    "print(data_raw.columns)\n",
    "# vec_full = data_raw[0].to_numpy()  # [:1000]\n",
    "# vec=vec_full\n",
    "\n",
    "# PAA transformation\n",
    "# window_size = 2\n",
    "# paa = PiecewiseAggregateApproximation(window_size=window_size)\n",
    "\n",
    "# vec = paa.transform(vec_full.reshape(1, -1)).squeeze()[:200001]\n",
    "# data_raw['T1'] = np.log(data_raw['T1'])/7\n",
    "# data_raw['T2'] = np.log(data_raw['T2'])/7\n",
    "# data_raw['T3'] = np.log(data_raw['T3'])/7\n",
    "# data_raw['P'] = np.log(data_raw['P'])/7\n",
    "\n",
    "\n",
    "fig, ax = plt.subplots(1, 1, figsize = (16, 3))\n",
    "\n",
    "# data_raw.plot(y=['T1', 'T2', 'T3', 'P'], ax=ax)\n",
    "data_raw.plot(ax=ax)\n",
    "fig.tight_layout()\n",
    "\n"
   ]
  },
  {
   "cell_type": "code",
   "execution_count": 12,
   "metadata": {},
   "outputs": [],
   "source": [
    "data_export = data_raw[['T1', 'T2', 'T3', 'P']]\n",
    "data_export.index.name = 'time'\n",
    "data_export.to_csv(root/f'{filename_data.stem}_anonym.csv')"
   ]
  },
  {
   "cell_type": "code",
   "execution_count": null,
   "metadata": {},
   "outputs": [],
   "source": []
  }
 ],
 "metadata": {
  "interpreter": {
   "hash": "101130aea03b81196a0fc3887c2856fe0c938fc50d516cfee19b921b89cf7bfb"
  },
  "kernelspec": {
   "display_name": "Python 3.8.10 ('.venv': venv)",
   "language": "python",
   "name": "python3"
  },
  "language_info": {
   "codemirror_mode": {
    "name": "ipython",
    "version": 3
   },
   "file_extension": ".py",
   "mimetype": "text/x-python",
   "name": "python",
   "nbconvert_exporter": "python",
   "pygments_lexer": "ipython3",
   "version": "3.8.10"
  },
  "orig_nbformat": 4
 },
 "nbformat": 4,
 "nbformat_minor": 2
}
